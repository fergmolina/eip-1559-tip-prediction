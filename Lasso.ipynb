{
 "cells": [
  {
   "cell_type": "code",
   "execution_count": 2,
   "metadata": {},
   "outputs": [],
   "source": [
    "import pandas as pd\n",
    "import math\n",
    "import numpy as np\n",
    "import pandas as pd\n",
    "import matplotlib.pyplot as plt\n",
    "from sklearn.linear_model import Lasso\n",
    "from sklearn.model_selection import TimeSeriesSplit\n",
    "from sklearn.metrics import mean_absolute_error\n",
    "from sklearn.preprocessing import StandardScaler  \n",
    "from sklearn.pipeline import Pipeline\n",
    "from skopt import BayesSearchCV"
   ]
  },
  {
   "cell_type": "code",
   "execution_count": 3,
   "metadata": {},
   "outputs": [],
   "source": [
    "dataset = pd.read_csv('./datasets/final_dataset.csv')\n",
    "dataset = dataset.drop(columns=['Unnamed: 0'])"
   ]
  },
  {
   "cell_type": "code",
   "execution_count": 3,
   "metadata": {},
   "outputs": [
    {
     "data": {
      "text/plain": [
       "Index(['base_fee', 'timestamp', 'blocks', 'gas_limit', 'gas_used', 'legacy_tx',\n",
       "       'sum_priority_fee_eth', 'tx', 'median_tip', 'q1_tip', 'q3_tip',\n",
       "       'eth_price', 'date', 'fng_value', 'fng_classification', 'ethereum_tvl',\n",
       "       'polygon_tvl', 'bsc_tvl', 'polygon_base_fee', 'polygon_blocks',\n",
       "       'polygon_gas_limit', 'polygon_gas_used', 'polygon_legacy_tx',\n",
       "       'polygon_sum_priority_fee_eth', 'polygon_tx', 'polygon_median_tip',\n",
       "       'polygon_q1_tip', 'polygon_q3_tip', 'bsc_blocks', 'bsc_gas_limit',\n",
       "       'bsc_gas_used', 'bsc_hourly_median_fee_tx', 'bsc_tx', 'bayc_floor_usd',\n",
       "       'bayc_volume_usd', 'bayc_sales_count', 'cp_floor_usd', 'cp_volume_usd',\n",
       "       'cp_sales_count', 'mayc_floor_usd', 'mayc_volume_usd',\n",
       "       'mayc_sales_count', 'agp_floor_usd', 'agp_volume_usd',\n",
       "       'agp_sales_count', 'csabc_floor_usd', 'csabc_volume_usd',\n",
       "       'csabc_sales_count', 'fabc_floor_usd', 'fabc_volume_usd',\n",
       "       'fabc_sales_count', 'azuki_floor_usd', 'azuki_volume_usd',\n",
       "       'azuki_sales_count', 'mbirds_floor_usd', 'mbirds_volume_usd',\n",
       "       'mbirds_sales_count', 'doodles_floor_usd', 'doodles_volume_usd',\n",
       "       'doodles_sales_count', 'rabc_floor_usd', 'rabc_volume_usd',\n",
       "       'rabc_sales_count', 'meebits_floor_usd', 'meebits_volume_usd',\n",
       "       'meebits_sales_count', 'pp_floor_usd', 'pp_volume_usd',\n",
       "       'pp_sales_count', 'ccats_floor_usd', 'ccats_volume_usd',\n",
       "       'ccats_sales_count', 'wow_floor_usd', 'wow_volume_usd',\n",
       "       'wow_sales_count', 'goblin_floor_usd', 'goblin_volume_usd',\n",
       "       'goblin_sales_count', 'cdb_floor_usd', 'cdb_volume_usd',\n",
       "       'cdb_sales_count', 'mfers_floor_usd', 'mfers_volume_usd',\n",
       "       'mfers_sales_count', 'deadfellaz_floor_usd', 'deadfellaz_volume_usd',\n",
       "       'deadfellaz_sales_count', 'beeple_floor_usd', 'beeple_volume_usd',\n",
       "       'beeple_sales_count', 'clonex_floor_usd', 'clonex_volume_usd',\n",
       "       'clonex_sales_count'],\n",
       "      dtype='object')"
      ]
     },
     "execution_count": 3,
     "metadata": {},
     "output_type": "execute_result"
    }
   ],
   "source": [
    "dataset.columns"
   ]
  },
  {
   "cell_type": "code",
   "execution_count": 4,
   "metadata": {},
   "outputs": [
    {
     "data": {
      "text/plain": [
       "8761"
      ]
     },
     "execution_count": 4,
     "metadata": {},
     "output_type": "execute_result"
    }
   ],
   "source": [
    "len(dataset.index)"
   ]
  },
  {
   "cell_type": "code",
   "execution_count": 5,
   "metadata": {},
   "outputs": [],
   "source": [
    "dataset = dataset.drop(columns=['timestamp','fng_classification','date'])"
   ]
  },
  {
   "cell_type": "code",
   "execution_count": 6,
   "metadata": {},
   "outputs": [
    {
     "name": "stderr",
     "output_type": "stream",
     "text": [
      "/var/folders/v8/qbhfywjj29x_mwp_gsm98j900000gn/T/ipykernel_1533/3016634127.py:8: PerformanceWarning: DataFrame is highly fragmented.  This is usually the result of calling `frame.insert` many times, which has poor performance.  Consider joining all columns at once using pd.concat(axis=1) instead.  To get a de-fragmented frame, use `newframe = frame.copy()`\n",
      "  ds[column+'_'+str(i)] = np.nan\n"
     ]
    }
   ],
   "source": [
    "def reorder_dataset(dataset, n):\n",
    "    \n",
    "    ds = dataset.copy()\n",
    "    columns = ds.columns\n",
    "    for i in range (1,n+1):\n",
    "        for column in columns:\n",
    "            if column != 'median_tip':\n",
    "                ds[column+'_'+str(i)] = np.nan\n",
    "\n",
    " \n",
    "\n",
    "    for i in range (1,n+1):        \n",
    "        for column in columns:\n",
    "            if column != 'median_tip':\n",
    "                ds[column+'_'+str(i)] = ds[column].shift(i)\n",
    "            \n",
    "    return ds\n",
    "\n",
    "dataset_n1 = reorder_dataset(dataset,1)\n",
    "dataset_n3 = reorder_dataset(dataset,3)\n",
    "dataset_n5 = reorder_dataset(dataset,5)\n",
    "dataset_n10 = reorder_dataset(dataset,10)\n",
    "dataset_n24 = reorder_dataset(dataset,24)"
   ]
  },
  {
   "cell_type": "code",
   "execution_count": 7,
   "metadata": {},
   "outputs": [],
   "source": [
    "columns = [x for x in dataset.columns if x != 'median_tip']\n",
    "\n",
    "dataset_n1 = dataset_n1.drop(columns = columns)\n",
    "\n",
    "dataset_n3 = dataset_n3.drop(columns = columns)\n",
    "\n",
    "dataset_n5 = dataset_n5.drop(columns = columns)\n",
    "\n",
    "dataset_n10 = dataset_n10.drop(columns = columns)\n",
    "\n",
    "dataset_n24 = dataset_n24.drop(columns = columns)"
   ]
  },
  {
   "cell_type": "code",
   "execution_count": 8,
   "metadata": {},
   "outputs": [],
   "source": [
    "#### Drop blocks without full history ####\n",
    "dataset_n1 = dataset_n1.dropna()\n",
    "dataset_n3 = dataset_n3.dropna()\n",
    "dataset_n5 = dataset_n5.dropna()\n",
    "dataset_n10 = dataset_n10.dropna()\n",
    "dataset_n24 = dataset_n24.dropna()"
   ]
  },
  {
   "cell_type": "code",
   "execution_count": 9,
   "metadata": {},
   "outputs": [
    {
     "name": "stdout",
     "output_type": "stream",
     "text": [
      "{'lasso__alpha': [0, 0.03, 0.05, 0.1, 0.3, 0.5, 0.8, 1]}\n"
     ]
    },
    {
     "name": "stderr",
     "output_type": "stream",
     "text": [
      "/Users/fer/opt/anaconda3/lib/python3.9/site-packages/sklearn/pipeline.py:346: UserWarning: With alpha=0, this algorithm does not converge well. You are advised to use the LinearRegression estimator\n",
      "  self._final_estimator.fit(Xt, y, **fit_params_last_step)\n",
      "/Users/fer/opt/anaconda3/lib/python3.9/site-packages/sklearn/pipeline.py:346: UserWarning: With alpha=0, this algorithm does not converge well. You are advised to use the LinearRegression estimator\n",
      "  self._final_estimator.fit(Xt, y, **fit_params_last_step)\n",
      "/Users/fer/opt/anaconda3/lib/python3.9/site-packages/sklearn/linear_model/_coordinate_descent.py:530: UserWarning: Coordinate descent with no regularization may lead to unexpected results and is discouraged.\n",
      "  model = cd_fast.enet_coordinate_descent(\n",
      "/Users/fer/opt/anaconda3/lib/python3.9/site-packages/sklearn/linear_model/_coordinate_descent.py:530: UserWarning: Coordinate descent with no regularization may lead to unexpected results and is discouraged.\n",
      "  model = cd_fast.enet_coordinate_descent(\n",
      "/Users/fer/opt/anaconda3/lib/python3.9/site-packages/sklearn/pipeline.py:346: UserWarning: With alpha=0, this algorithm does not converge well. You are advised to use the LinearRegression estimator\n",
      "  self._final_estimator.fit(Xt, y, **fit_params_last_step)\n",
      "/Users/fer/opt/anaconda3/lib/python3.9/site-packages/sklearn/linear_model/_coordinate_descent.py:530: UserWarning: Coordinate descent with no regularization may lead to unexpected results and is discouraged.\n",
      "  model = cd_fast.enet_coordinate_descent(\n",
      "/Users/fer/opt/anaconda3/lib/python3.9/site-packages/sklearn/linear_model/_coordinate_descent.py:530: ConvergenceWarning: Objective did not converge. You might want to increase the number of iterations. Duality gap: 21.621961157000435, tolerance: 0.011401784041951218\n",
      "  model = cd_fast.enet_coordinate_descent(\n",
      "/Users/fer/opt/anaconda3/lib/python3.9/site-packages/sklearn/linear_model/_coordinate_descent.py:530: ConvergenceWarning: Objective did not converge. You might want to increase the number of iterations. Duality gap: 24.820877268970946, tolerance: 0.012973757266183293\n",
      "  model = cd_fast.enet_coordinate_descent(\n",
      "/Users/fer/opt/anaconda3/lib/python3.9/site-packages/sklearn/linear_model/_coordinate_descent.py:530: ConvergenceWarning: Objective did not converge. You might want to increase the number of iterations. Duality gap: 27.04282168823664, tolerance: 0.014064317650272756\n",
      "  model = cd_fast.enet_coordinate_descent(\n",
      "/Users/fer/opt/anaconda3/lib/python3.9/site-packages/skopt/optimizer/optimizer.py:449: UserWarning: The objective has been evaluated at this point before.\n",
      "  warnings.warn(\"The objective has been evaluated \"\n",
      "/Users/fer/opt/anaconda3/lib/python3.9/site-packages/skopt/optimizer/optimizer.py:449: UserWarning: The objective has been evaluated at this point before.\n",
      "  warnings.warn(\"The objective has been evaluated \"\n",
      "/Users/fer/opt/anaconda3/lib/python3.9/site-packages/skopt/optimizer/optimizer.py:449: UserWarning: The objective has been evaluated at this point before.\n",
      "  warnings.warn(\"The objective has been evaluated \"\n"
     ]
    },
    {
     "name": "stdout",
     "output_type": "stream",
     "text": [
      "1\n",
      "Pipeline(steps=[('scaler', StandardScaler()), ('lasso', Lasso(alpha=0.03))])\n",
      "-0.06020323813067726\n"
     ]
    },
    {
     "name": "stderr",
     "output_type": "stream",
     "text": [
      "/Users/fer/opt/anaconda3/lib/python3.9/site-packages/sklearn/pipeline.py:346: UserWarning: With alpha=0, this algorithm does not converge well. You are advised to use the LinearRegression estimator\n",
      "  self._final_estimator.fit(Xt, y, **fit_params_last_step)\n",
      "/Users/fer/opt/anaconda3/lib/python3.9/site-packages/sklearn/pipeline.py:346: UserWarning: With alpha=0, this algorithm does not converge well. You are advised to use the LinearRegression estimator\n",
      "  self._final_estimator.fit(Xt, y, **fit_params_last_step)\n",
      "/Users/fer/opt/anaconda3/lib/python3.9/site-packages/sklearn/linear_model/_coordinate_descent.py:530: UserWarning: Coordinate descent with no regularization may lead to unexpected results and is discouraged.\n",
      "  model = cd_fast.enet_coordinate_descent(\n",
      "/Users/fer/opt/anaconda3/lib/python3.9/site-packages/sklearn/pipeline.py:346: UserWarning: With alpha=0, this algorithm does not converge well. You are advised to use the LinearRegression estimator\n",
      "  self._final_estimator.fit(Xt, y, **fit_params_last_step)\n",
      "/Users/fer/opt/anaconda3/lib/python3.9/site-packages/sklearn/linear_model/_coordinate_descent.py:530: UserWarning: Coordinate descent with no regularization may lead to unexpected results and is discouraged.\n",
      "  model = cd_fast.enet_coordinate_descent(\n",
      "/Users/fer/opt/anaconda3/lib/python3.9/site-packages/sklearn/linear_model/_coordinate_descent.py:530: UserWarning: Coordinate descent with no regularization may lead to unexpected results and is discouraged.\n",
      "  model = cd_fast.enet_coordinate_descent(\n",
      "/Users/fer/opt/anaconda3/lib/python3.9/site-packages/sklearn/linear_model/_coordinate_descent.py:530: ConvergenceWarning: Objective did not converge. You might want to increase the number of iterations. Duality gap: 20.31174308873896, tolerance: 0.011399465198399768\n",
      "  model = cd_fast.enet_coordinate_descent(\n",
      "/Users/fer/opt/anaconda3/lib/python3.9/site-packages/sklearn/linear_model/_coordinate_descent.py:530: ConvergenceWarning: Objective did not converge. You might want to increase the number of iterations. Duality gap: 23.084620596189595, tolerance: 0.012969189577020835\n",
      "  model = cd_fast.enet_coordinate_descent(\n",
      "/Users/fer/opt/anaconda3/lib/python3.9/site-packages/sklearn/linear_model/_coordinate_descent.py:530: ConvergenceWarning: Objective did not converge. You might want to increase the number of iterations. Duality gap: 24.893331619660866, tolerance: 0.01405925759013253\n",
      "  model = cd_fast.enet_coordinate_descent(\n",
      "/Users/fer/opt/anaconda3/lib/python3.9/site-packages/skopt/optimizer/optimizer.py:449: UserWarning: The objective has been evaluated at this point before.\n",
      "  warnings.warn(\"The objective has been evaluated \"\n",
      "/Users/fer/opt/anaconda3/lib/python3.9/site-packages/skopt/optimizer/optimizer.py:449: UserWarning: The objective has been evaluated at this point before.\n",
      "  warnings.warn(\"The objective has been evaluated \"\n",
      "/Users/fer/opt/anaconda3/lib/python3.9/site-packages/skopt/optimizer/optimizer.py:449: UserWarning: The objective has been evaluated at this point before.\n",
      "  warnings.warn(\"The objective has been evaluated \"\n"
     ]
    },
    {
     "name": "stdout",
     "output_type": "stream",
     "text": [
      "3\n",
      "Pipeline(steps=[('scaler', StandardScaler()), ('lasso', Lasso(alpha=0.03))])\n",
      "-0.05693051589458048\n"
     ]
    },
    {
     "name": "stderr",
     "output_type": "stream",
     "text": [
      "/Users/fer/opt/anaconda3/lib/python3.9/site-packages/joblib/externals/loky/process_executor.py:702: UserWarning: A worker stopped while some jobs were given to the executor. This can be caused by a too short worker timeout or by a memory leak.\n",
      "  warnings.warn(\n",
      "/Users/fer/opt/anaconda3/lib/python3.9/site-packages/sklearn/pipeline.py:346: UserWarning: With alpha=0, this algorithm does not converge well. You are advised to use the LinearRegression estimator\n",
      "  self._final_estimator.fit(Xt, y, **fit_params_last_step)\n",
      "/Users/fer/opt/anaconda3/lib/python3.9/site-packages/sklearn/pipeline.py:346: UserWarning: With alpha=0, this algorithm does not converge well. You are advised to use the LinearRegression estimator\n",
      "  self._final_estimator.fit(Xt, y, **fit_params_last_step)\n",
      "/Users/fer/opt/anaconda3/lib/python3.9/site-packages/sklearn/linear_model/_coordinate_descent.py:530: UserWarning: Coordinate descent with no regularization may lead to unexpected results and is discouraged.\n",
      "  model = cd_fast.enet_coordinate_descent(\n",
      "/Users/fer/opt/anaconda3/lib/python3.9/site-packages/sklearn/linear_model/_coordinate_descent.py:530: UserWarning: Coordinate descent with no regularization may lead to unexpected results and is discouraged.\n",
      "  model = cd_fast.enet_coordinate_descent(\n",
      "/Users/fer/opt/anaconda3/lib/python3.9/site-packages/sklearn/pipeline.py:346: UserWarning: With alpha=0, this algorithm does not converge well. You are advised to use the LinearRegression estimator\n",
      "  self._final_estimator.fit(Xt, y, **fit_params_last_step)\n",
      "/Users/fer/opt/anaconda3/lib/python3.9/site-packages/sklearn/linear_model/_coordinate_descent.py:530: UserWarning: Coordinate descent with no regularization may lead to unexpected results and is discouraged.\n",
      "  model = cd_fast.enet_coordinate_descent(\n",
      "/Users/fer/opt/anaconda3/lib/python3.9/site-packages/sklearn/linear_model/_coordinate_descent.py:530: ConvergenceWarning: Objective did not converge. You might want to increase the number of iterations. Duality gap: 19.69765162751162, tolerance: 0.011393297392848495\n",
      "  model = cd_fast.enet_coordinate_descent(\n",
      "/Users/fer/opt/anaconda3/lib/python3.9/site-packages/sklearn/linear_model/_coordinate_descent.py:530: ConvergenceWarning: Objective did not converge. You might want to increase the number of iterations. Duality gap: 22.28603742798495, tolerance: 0.012965040765516776\n",
      "  model = cd_fast.enet_coordinate_descent(\n",
      "/Users/fer/opt/anaconda3/lib/python3.9/site-packages/sklearn/linear_model/_coordinate_descent.py:530: ConvergenceWarning: Objective did not converge. You might want to increase the number of iterations. Duality gap: 24.029425958978386, tolerance: 0.014056608601947742\n",
      "  model = cd_fast.enet_coordinate_descent(\n",
      "/Users/fer/opt/anaconda3/lib/python3.9/site-packages/skopt/optimizer/optimizer.py:449: UserWarning: The objective has been evaluated at this point before.\n",
      "  warnings.warn(\"The objective has been evaluated \"\n",
      "/Users/fer/opt/anaconda3/lib/python3.9/site-packages/skopt/optimizer/optimizer.py:449: UserWarning: The objective has been evaluated at this point before.\n",
      "  warnings.warn(\"The objective has been evaluated \"\n",
      "/Users/fer/opt/anaconda3/lib/python3.9/site-packages/skopt/optimizer/optimizer.py:449: UserWarning: The objective has been evaluated at this point before.\n",
      "  warnings.warn(\"The objective has been evaluated \"\n"
     ]
    },
    {
     "name": "stdout",
     "output_type": "stream",
     "text": [
      "5\n",
      "Pipeline(steps=[('scaler', StandardScaler()), ('lasso', Lasso(alpha=0.03))])\n",
      "-0.055967774742457586\n"
     ]
    },
    {
     "name": "stderr",
     "output_type": "stream",
     "text": [
      "/Users/fer/opt/anaconda3/lib/python3.9/site-packages/sklearn/pipeline.py:346: UserWarning: With alpha=0, this algorithm does not converge well. You are advised to use the LinearRegression estimator\n",
      "  self._final_estimator.fit(Xt, y, **fit_params_last_step)\n",
      "/Users/fer/opt/anaconda3/lib/python3.9/site-packages/sklearn/pipeline.py:346: UserWarning: With alpha=0, this algorithm does not converge well. You are advised to use the LinearRegression estimator\n",
      "  self._final_estimator.fit(Xt, y, **fit_params_last_step)\n",
      "/Users/fer/opt/anaconda3/lib/python3.9/site-packages/sklearn/linear_model/_coordinate_descent.py:530: UserWarning: Coordinate descent with no regularization may lead to unexpected results and is discouraged.\n",
      "  model = cd_fast.enet_coordinate_descent(\n",
      "/Users/fer/opt/anaconda3/lib/python3.9/site-packages/sklearn/linear_model/_coordinate_descent.py:530: UserWarning: Coordinate descent with no regularization may lead to unexpected results and is discouraged.\n",
      "  model = cd_fast.enet_coordinate_descent(\n",
      "/Users/fer/opt/anaconda3/lib/python3.9/site-packages/sklearn/pipeline.py:346: UserWarning: With alpha=0, this algorithm does not converge well. You are advised to use the LinearRegression estimator\n",
      "  self._final_estimator.fit(Xt, y, **fit_params_last_step)\n",
      "/Users/fer/opt/anaconda3/lib/python3.9/site-packages/sklearn/linear_model/_coordinate_descent.py:530: UserWarning: Coordinate descent with no regularization may lead to unexpected results and is discouraged.\n",
      "  model = cd_fast.enet_coordinate_descent(\n",
      "/Users/fer/opt/anaconda3/lib/python3.9/site-packages/sklearn/linear_model/_coordinate_descent.py:530: ConvergenceWarning: Objective did not converge. You might want to increase the number of iterations. Duality gap: 18.469967488828544, tolerance: 0.011382163141779738\n",
      "  model = cd_fast.enet_coordinate_descent(\n",
      "/Users/fer/opt/anaconda3/lib/python3.9/site-packages/sklearn/linear_model/_coordinate_descent.py:530: ConvergenceWarning: Objective did not converge. You might want to increase the number of iterations. Duality gap: 21.002598859435025, tolerance: 0.012951718976005756\n",
      "  model = cd_fast.enet_coordinate_descent(\n",
      "/Users/fer/opt/anaconda3/lib/python3.9/site-packages/sklearn/linear_model/_coordinate_descent.py:530: ConvergenceWarning: Objective did not converge. You might want to increase the number of iterations. Duality gap: 22.623052206639784, tolerance: 0.01405102270926106\n",
      "  model = cd_fast.enet_coordinate_descent(\n",
      "/Users/fer/opt/anaconda3/lib/python3.9/site-packages/skopt/optimizer/optimizer.py:449: UserWarning: The objective has been evaluated at this point before.\n",
      "  warnings.warn(\"The objective has been evaluated \"\n",
      "/Users/fer/opt/anaconda3/lib/python3.9/site-packages/skopt/optimizer/optimizer.py:449: UserWarning: The objective has been evaluated at this point before.\n",
      "  warnings.warn(\"The objective has been evaluated \"\n",
      "/Users/fer/opt/anaconda3/lib/python3.9/site-packages/skopt/optimizer/optimizer.py:449: UserWarning: The objective has been evaluated at this point before.\n",
      "  warnings.warn(\"The objective has been evaluated \"\n"
     ]
    },
    {
     "name": "stdout",
     "output_type": "stream",
     "text": [
      "10\n",
      "Pipeline(steps=[('scaler', StandardScaler()), ('lasso', Lasso(alpha=0.03))])\n",
      "-0.055132142745717684\n"
     ]
    },
    {
     "name": "stderr",
     "output_type": "stream",
     "text": [
      "/Users/fer/opt/anaconda3/lib/python3.9/site-packages/sklearn/pipeline.py:346: UserWarning: With alpha=0, this algorithm does not converge well. You are advised to use the LinearRegression estimator\n",
      "  self._final_estimator.fit(Xt, y, **fit_params_last_step)\n",
      "/Users/fer/opt/anaconda3/lib/python3.9/site-packages/sklearn/pipeline.py:346: UserWarning: With alpha=0, this algorithm does not converge well. You are advised to use the LinearRegression estimator\n",
      "  self._final_estimator.fit(Xt, y, **fit_params_last_step)\n",
      "/Users/fer/opt/anaconda3/lib/python3.9/site-packages/sklearn/linear_model/_coordinate_descent.py:530: UserWarning: Coordinate descent with no regularization may lead to unexpected results and is discouraged.\n",
      "  model = cd_fast.enet_coordinate_descent(\n",
      "/Users/fer/opt/anaconda3/lib/python3.9/site-packages/sklearn/pipeline.py:346: UserWarning: With alpha=0, this algorithm does not converge well. You are advised to use the LinearRegression estimator\n",
      "  self._final_estimator.fit(Xt, y, **fit_params_last_step)\n",
      "/Users/fer/opt/anaconda3/lib/python3.9/site-packages/sklearn/linear_model/_coordinate_descent.py:530: UserWarning: Coordinate descent with no regularization may lead to unexpected results and is discouraged.\n",
      "  model = cd_fast.enet_coordinate_descent(\n",
      "/Users/fer/opt/anaconda3/lib/python3.9/site-packages/sklearn/linear_model/_coordinate_descent.py:530: UserWarning: Coordinate descent with no regularization may lead to unexpected results and is discouraged.\n",
      "  model = cd_fast.enet_coordinate_descent(\n",
      "/Users/fer/opt/anaconda3/lib/python3.9/site-packages/sklearn/linear_model/_coordinate_descent.py:530: ConvergenceWarning: Objective did not converge. You might want to increase the number of iterations. Duality gap: 14.750324054114607, tolerance: 0.011341886669086396\n",
      "  model = cd_fast.enet_coordinate_descent(\n",
      "/Users/fer/opt/anaconda3/lib/python3.9/site-packages/sklearn/linear_model/_coordinate_descent.py:530: ConvergenceWarning: Objective did not converge. You might want to increase the number of iterations. Duality gap: 16.918156511921243, tolerance: 0.012900994006950271\n",
      "  model = cd_fast.enet_coordinate_descent(\n",
      "/Users/fer/opt/anaconda3/lib/python3.9/site-packages/sklearn/linear_model/_coordinate_descent.py:530: ConvergenceWarning: Objective did not converge. You might want to increase the number of iterations. Duality gap: 18.461996078932085, tolerance: 0.014014478555563198\n",
      "  model = cd_fast.enet_coordinate_descent(\n",
      "/Users/fer/opt/anaconda3/lib/python3.9/site-packages/skopt/optimizer/optimizer.py:449: UserWarning: The objective has been evaluated at this point before.\n",
      "  warnings.warn(\"The objective has been evaluated \"\n",
      "/Users/fer/opt/anaconda3/lib/python3.9/site-packages/skopt/optimizer/optimizer.py:449: UserWarning: The objective has been evaluated at this point before.\n",
      "  warnings.warn(\"The objective has been evaluated \"\n",
      "/Users/fer/opt/anaconda3/lib/python3.9/site-packages/skopt/optimizer/optimizer.py:449: UserWarning: The objective has been evaluated at this point before.\n",
      "  warnings.warn(\"The objective has been evaluated \"\n"
     ]
    },
    {
     "name": "stdout",
     "output_type": "stream",
     "text": [
      "24\n",
      "Pipeline(steps=[('scaler', StandardScaler()), ('lasso', Lasso(alpha=0.03))])\n",
      "-0.05443348474636805\n",
      "Best N and model:  24 Lasso(alpha=0.03)\n",
      "Best metric:  -0.05443348474636805\n"
     ]
    }
   ],
   "source": [
    "alphas = [0, 0.03, 0.05, 0.1, 0.3, 0.5, 0.8, 1]\n",
    "random_grid = {'lasso__alpha': alphas,\n",
    "}\n",
    "print(random_grid)\n",
    "\n",
    "best_metric = -100\n",
    "best_N = -0\n",
    "\n",
    "steps = [('scaler', StandardScaler()), ('lasso', Lasso())]\n",
    "\n",
    "pipeline = Pipeline(steps)\n",
    "\n",
    "\n",
    "N = [1,3,5,10,24]\n",
    "lasso_results = []\n",
    "\n",
    "for n in N:\n",
    "    \n",
    "    if n == 1:\n",
    "        lasso_df = dataset_n1\n",
    "    elif n ==3:\n",
    "        lasso_df = dataset_n3\n",
    "    elif n ==5:\n",
    "        lasso_df = dataset_n5\n",
    "    elif n ==10:\n",
    "        lasso_df = dataset_n10\n",
    "    elif n ==24:\n",
    "        lasso_df = dataset_n24\n",
    "\n",
    "\n",
    "\n",
    "    X = lasso_df.drop('median_tip', axis=1)\n",
    "    y = lasso_df['median_tip']\n",
    "    tscv = TimeSeriesSplit(n_splits=3, test_size=math.floor(len(lasso_df)*0.1), gap=n)\n",
    "    lasso_bayes = BayesSearchCV(pipeline, random_grid, n_iter = 15, cv = tscv, verbose=0, random_state=42, n_jobs = -1, scoring=\"neg_mean_absolute_error\")\n",
    "    lasso_bayes.fit(X, y)\n",
    "    print(n)\n",
    "    print(lasso_bayes.best_estimator_)\n",
    "    print(lasso_bayes.best_score_)\n",
    "    if best_metric < lasso_bayes.best_score_:\n",
    "        lasso = lasso_bayes.best_estimator_[1]\n",
    "        best_metric = lasso_bayes.best_score_\n",
    "        best_N = n\n",
    "        lasso_results.append(lasso_bayes)\n",
    "print(\"Best N and model: \", best_N, lasso)\n",
    "print(\"Best metric: \", best_metric)\n",
    "    "
   ]
  },
  {
   "cell_type": "code",
   "execution_count": 10,
   "metadata": {},
   "outputs": [],
   "source": [
    "if best_N == 1:\n",
    "    training = dataset_n1\n",
    "    lasso_final = lasso_results[0]\n",
    "elif best_N ==3:\n",
    "    training = dataset_n3\n",
    "    lasso_final = lasso_results[1]\n",
    "elif best_N ==5:\n",
    "    training = dataset_n5\n",
    "    lasso_final = lasso_results[2]\n",
    "elif best_N ==10:\n",
    "    training = dataset_n10\n",
    "    lasso_final = lasso_results[3]\n",
    "elif best_N ==24:\n",
    "    training = dataset_n24\n",
    "    lasso_final = lasso_results[4]\n",
    "\n",
    "X = training.drop('median_tip', axis=1)"
   ]
  },
  {
   "cell_type": "code",
   "execution_count": 11,
   "metadata": {},
   "outputs": [
    {
     "data": {
      "image/png": "[encoded data removed]",
      "text/plain": [
       "<Figure size 432x288 with 1 Axes>"
      ]
     },
     "metadata": {
      "needs_background": "light"
     },
     "output_type": "display_data"
    }
   ],
   "source": [
    "feature_importance = abs(lasso_final.best_estimator_[1].coef_)\n",
    "total_feature_importance =  feature_importance.sum()\n",
    "feature_importance = 100.0 * (feature_importance / total_feature_importance)\n",
    "column_names_ids = np.argsort(feature_importance)\n",
    "feature_importance = np.array([i for i in feature_importance if i>1])\n",
    "column_names_ids = column_names_ids[:len(feature_importance)]\n",
    "sorted_idx = np.argsort(feature_importance)\n",
    "pos = np.arange(sorted_idx.shape[0]) + .5\n",
    "\n",
    "featfig = plt.figure()\n",
    "featax = featfig.add_subplot(1, 1, 1)\n",
    "featax.barh(pos, feature_importance[sorted_idx], align='center')\n",
    "featax.set_yticks(pos)\n",
    "featax.set_yticklabels(np.array(X.columns)[column_names_ids], fontsize=8)\n",
    "featax.set_xlabel('Relative Feature Importance')\n",
    "\n",
    "plt.title('Model N='+str(best_N)+' LASSO')\n",
    "\n",
    "plt.tight_layout()   \n",
    "plt.show()"
   ]
  },
  {
   "cell_type": "code",
   "execution_count": 12,
   "metadata": {},
   "outputs": [
    {
     "data": {
      "text/html": [
       "<div>\n",
       "<style scoped>\n",
       "    .dataframe tbody tr th:only-of-type {\n",
       "        vertical-align: middle;\n",
       "    }\n",
       "\n",
       "    .dataframe tbody tr th {\n",
       "        vertical-align: top;\n",
       "    }\n",
       "\n",
       "    .dataframe thead th {\n",
       "        text-align: right;\n",
       "    }\n",
       "</style>\n",
       "<table border=\"1\" class=\"dataframe\">\n",
       "  <thead>\n",
       "    <tr style=\"text-align: right;\">\n",
       "      <th></th>\n",
       "      <th>base_fee</th>\n",
       "      <th>timestamp</th>\n",
       "      <th>blocks</th>\n",
       "      <th>gas_limit</th>\n",
       "      <th>gas_used</th>\n",
       "      <th>legacy_tx</th>\n",
       "      <th>sum_priority_fee_eth</th>\n",
       "      <th>tx</th>\n",
       "      <th>median_tip</th>\n",
       "      <th>q1_tip</th>\n",
       "      <th>...</th>\n",
       "      <th>mfers_sales_count</th>\n",
       "      <th>deadfellaz_floor_usd</th>\n",
       "      <th>deadfellaz_volume_usd</th>\n",
       "      <th>deadfellaz_sales_count</th>\n",
       "      <th>beeple_floor_usd</th>\n",
       "      <th>beeple_volume_usd</th>\n",
       "      <th>beeple_sales_count</th>\n",
       "      <th>clonex_floor_usd</th>\n",
       "      <th>clonex_volume_usd</th>\n",
       "      <th>clonex_sales_count</th>\n",
       "    </tr>\n",
       "  </thead>\n",
       "  <tbody>\n",
       "    <tr>\n",
       "      <th>0</th>\n",
       "      <td>2.280913</td>\n",
       "      <td>2022-08-07 01:00:00</td>\n",
       "      <td>39</td>\n",
       "      <td>1169764903</td>\n",
       "      <td>688520770</td>\n",
       "      <td>887</td>\n",
       "      <td>1.663079</td>\n",
       "      <td>6582</td>\n",
       "      <td>0.529009</td>\n",
       "      <td>0.168829</td>\n",
       "      <td>...</td>\n",
       "      <td>24</td>\n",
       "      <td>1376.048000</td>\n",
       "      <td>15485.486578</td>\n",
       "      <td>10</td>\n",
       "      <td>28735.120000</td>\n",
       "      <td>0.0</td>\n",
       "      <td>0</td>\n",
       "      <td>13436.704000</td>\n",
       "      <td>104043.798720</td>\n",
       "      <td>7</td>\n",
       "    </tr>\n",
       "    <tr>\n",
       "      <th>1</th>\n",
       "      <td>15.432999</td>\n",
       "      <td>2022-08-07 02:00:00</td>\n",
       "      <td>237</td>\n",
       "      <td>7110027747</td>\n",
       "      <td>3880719039</td>\n",
       "      <td>7752</td>\n",
       "      <td>11.868786</td>\n",
       "      <td>45632</td>\n",
       "      <td>0.259681</td>\n",
       "      <td>0.143453</td>\n",
       "      <td>...</td>\n",
       "      <td>24</td>\n",
       "      <td>1376.048000</td>\n",
       "      <td>15485.486578</td>\n",
       "      <td>10</td>\n",
       "      <td>28735.120000</td>\n",
       "      <td>0.0</td>\n",
       "      <td>0</td>\n",
       "      <td>13436.704000</td>\n",
       "      <td>104043.798720</td>\n",
       "      <td>7</td>\n",
       "    </tr>\n",
       "    <tr>\n",
       "      <th>2</th>\n",
       "      <td>24.098700</td>\n",
       "      <td>2022-08-07 03:00:00</td>\n",
       "      <td>236</td>\n",
       "      <td>7080964616</td>\n",
       "      <td>3738681213</td>\n",
       "      <td>8183</td>\n",
       "      <td>15.676680</td>\n",
       "      <td>44685</td>\n",
       "      <td>0.213495</td>\n",
       "      <td>0.114983</td>\n",
       "      <td>...</td>\n",
       "      <td>24</td>\n",
       "      <td>1376.048000</td>\n",
       "      <td>15485.486578</td>\n",
       "      <td>10</td>\n",
       "      <td>28735.120000</td>\n",
       "      <td>0.0</td>\n",
       "      <td>0</td>\n",
       "      <td>13436.704000</td>\n",
       "      <td>104043.798720</td>\n",
       "      <td>7</td>\n",
       "    </tr>\n",
       "    <tr>\n",
       "      <th>3</th>\n",
       "      <td>20.704683</td>\n",
       "      <td>2022-08-07 04:00:00</td>\n",
       "      <td>259</td>\n",
       "      <td>7770467023</td>\n",
       "      <td>4057887078</td>\n",
       "      <td>10664</td>\n",
       "      <td>27.055056</td>\n",
       "      <td>51861</td>\n",
       "      <td>0.194821</td>\n",
       "      <td>0.118158</td>\n",
       "      <td>...</td>\n",
       "      <td>24</td>\n",
       "      <td>1376.048000</td>\n",
       "      <td>15485.486578</td>\n",
       "      <td>10</td>\n",
       "      <td>28735.120000</td>\n",
       "      <td>0.0</td>\n",
       "      <td>0</td>\n",
       "      <td>13436.704000</td>\n",
       "      <td>104043.798720</td>\n",
       "      <td>7</td>\n",
       "    </tr>\n",
       "    <tr>\n",
       "      <th>4</th>\n",
       "      <td>14.718397</td>\n",
       "      <td>2022-08-07 05:00:00</td>\n",
       "      <td>260</td>\n",
       "      <td>7799439368</td>\n",
       "      <td>4218450045</td>\n",
       "      <td>10480</td>\n",
       "      <td>11.841531</td>\n",
       "      <td>51113</td>\n",
       "      <td>0.168015</td>\n",
       "      <td>0.102764</td>\n",
       "      <td>...</td>\n",
       "      <td>24</td>\n",
       "      <td>1376.048000</td>\n",
       "      <td>15485.486578</td>\n",
       "      <td>10</td>\n",
       "      <td>28735.120000</td>\n",
       "      <td>0.0</td>\n",
       "      <td>0</td>\n",
       "      <td>13436.704000</td>\n",
       "      <td>104043.798720</td>\n",
       "      <td>7</td>\n",
       "    </tr>\n",
       "    <tr>\n",
       "      <th>...</th>\n",
       "      <td>...</td>\n",
       "      <td>...</td>\n",
       "      <td>...</td>\n",
       "      <td>...</td>\n",
       "      <td>...</td>\n",
       "      <td>...</td>\n",
       "      <td>...</td>\n",
       "      <td>...</td>\n",
       "      <td>...</td>\n",
       "      <td>...</td>\n",
       "      <td>...</td>\n",
       "      <td>...</td>\n",
       "      <td>...</td>\n",
       "      <td>...</td>\n",
       "      <td>...</td>\n",
       "      <td>...</td>\n",
       "      <td>...</td>\n",
       "      <td>...</td>\n",
       "      <td>...</td>\n",
       "      <td>...</td>\n",
       "      <td>...</td>\n",
       "    </tr>\n",
       "    <tr>\n",
       "      <th>601</th>\n",
       "      <td>72.111645</td>\n",
       "      <td>2022-09-01 02:00:00</td>\n",
       "      <td>262</td>\n",
       "      <td>7860700504</td>\n",
       "      <td>4377071552</td>\n",
       "      <td>6209</td>\n",
       "      <td>17.266260</td>\n",
       "      <td>45688</td>\n",
       "      <td>0.260117</td>\n",
       "      <td>0.149365</td>\n",
       "      <td>...</td>\n",
       "      <td>8</td>\n",
       "      <td>1040.413718</td>\n",
       "      <td>14744.637461</td>\n",
       "      <td>12</td>\n",
       "      <td>27915.435336</td>\n",
       "      <td>0.0</td>\n",
       "      <td>0</td>\n",
       "      <td>10886.242192</td>\n",
       "      <td>569498.519548</td>\n",
       "      <td>38</td>\n",
       "    </tr>\n",
       "    <tr>\n",
       "      <th>602</th>\n",
       "      <td>61.364488</td>\n",
       "      <td>2022-09-01 03:00:00</td>\n",
       "      <td>245</td>\n",
       "      <td>7350614227</td>\n",
       "      <td>3984931896</td>\n",
       "      <td>8060</td>\n",
       "      <td>17.113234</td>\n",
       "      <td>48005</td>\n",
       "      <td>0.204441</td>\n",
       "      <td>0.128885</td>\n",
       "      <td>...</td>\n",
       "      <td>8</td>\n",
       "      <td>1040.413718</td>\n",
       "      <td>14744.637461</td>\n",
       "      <td>12</td>\n",
       "      <td>27915.435336</td>\n",
       "      <td>0.0</td>\n",
       "      <td>0</td>\n",
       "      <td>10886.242192</td>\n",
       "      <td>569498.519548</td>\n",
       "      <td>38</td>\n",
       "    </tr>\n",
       "    <tr>\n",
       "      <th>603</th>\n",
       "      <td>45.194583</td>\n",
       "      <td>2022-09-01 04:00:00</td>\n",
       "      <td>241</td>\n",
       "      <td>7230584402</td>\n",
       "      <td>3824712180</td>\n",
       "      <td>8929</td>\n",
       "      <td>14.133103</td>\n",
       "      <td>40814</td>\n",
       "      <td>0.222156</td>\n",
       "      <td>0.109491</td>\n",
       "      <td>...</td>\n",
       "      <td>8</td>\n",
       "      <td>1040.413718</td>\n",
       "      <td>14744.637461</td>\n",
       "      <td>12</td>\n",
       "      <td>27915.435336</td>\n",
       "      <td>0.0</td>\n",
       "      <td>0</td>\n",
       "      <td>10886.242192</td>\n",
       "      <td>569498.519548</td>\n",
       "      <td>38</td>\n",
       "    </tr>\n",
       "    <tr>\n",
       "      <th>604</th>\n",
       "      <td>39.157729</td>\n",
       "      <td>2022-09-01 05:00:00</td>\n",
       "      <td>261</td>\n",
       "      <td>7831988695</td>\n",
       "      <td>4187495091</td>\n",
       "      <td>7087</td>\n",
       "      <td>15.891177</td>\n",
       "      <td>40512</td>\n",
       "      <td>0.241508</td>\n",
       "      <td>0.128553</td>\n",
       "      <td>...</td>\n",
       "      <td>8</td>\n",
       "      <td>1040.413718</td>\n",
       "      <td>14744.637461</td>\n",
       "      <td>12</td>\n",
       "      <td>27915.435336</td>\n",
       "      <td>0.0</td>\n",
       "      <td>0</td>\n",
       "      <td>10886.242192</td>\n",
       "      <td>569498.519548</td>\n",
       "      <td>38</td>\n",
       "    </tr>\n",
       "    <tr>\n",
       "      <th>605</th>\n",
       "      <td>21.581830</td>\n",
       "      <td>2022-09-01 06:00:00</td>\n",
       "      <td>145</td>\n",
       "      <td>4350731493</td>\n",
       "      <td>2285358613</td>\n",
       "      <td>9100</td>\n",
       "      <td>8.433607</td>\n",
       "      <td>27720</td>\n",
       "      <td>0.243464</td>\n",
       "      <td>0.134273</td>\n",
       "      <td>...</td>\n",
       "      <td>8</td>\n",
       "      <td>1040.413718</td>\n",
       "      <td>14744.637461</td>\n",
       "      <td>12</td>\n",
       "      <td>27915.435336</td>\n",
       "      <td>0.0</td>\n",
       "      <td>0</td>\n",
       "      <td>10886.242192</td>\n",
       "      <td>569498.519548</td>\n",
       "      <td>38</td>\n",
       "    </tr>\n",
       "  </tbody>\n",
       "</table>\n",
       "<p>606 rows × 93 columns</p>\n",
       "</div>"
      ],
      "text/plain": [
       "      base_fee            timestamp  blocks   gas_limit    gas_used  \\\n",
       "0     2.280913  2022-08-07 01:00:00      39  1169764903   688520770   \n",
       "1    15.432999  2022-08-07 02:00:00     237  7110027747  3880719039   \n",
       "2    24.098700  2022-08-07 03:00:00     236  7080964616  3738681213   \n",
       "3    20.704683  2022-08-07 04:00:00     259  7770467023  4057887078   \n",
       "4    14.718397  2022-08-07 05:00:00     260  7799439368  4218450045   \n",
       "..         ...                  ...     ...         ...         ...   \n",
       "601  72.111645  2022-09-01 02:00:00     262  7860700504  4377071552   \n",
       "602  61.364488  2022-09-01 03:00:00     245  7350614227  3984931896   \n",
       "603  45.194583  2022-09-01 04:00:00     241  7230584402  3824712180   \n",
       "604  39.157729  2022-09-01 05:00:00     261  7831988695  4187495091   \n",
       "605  21.581830  2022-09-01 06:00:00     145  4350731493  2285358613   \n",
       "\n",
       "     legacy_tx  sum_priority_fee_eth     tx  median_tip    q1_tip  ...  \\\n",
       "0          887              1.663079   6582    0.529009  0.168829  ...   \n",
       "1         7752             11.868786  45632    0.259681  0.143453  ...   \n",
       "2         8183             15.676680  44685    0.213495  0.114983  ...   \n",
       "3        10664             27.055056  51861    0.194821  0.118158  ...   \n",
       "4        10480             11.841531  51113    0.168015  0.102764  ...   \n",
       "..         ...                   ...    ...         ...       ...  ...   \n",
       "601       6209             17.266260  45688    0.260117  0.149365  ...   \n",
       "602       8060             17.113234  48005    0.204441  0.128885  ...   \n",
       "603       8929             14.133103  40814    0.222156  0.109491  ...   \n",
       "604       7087             15.891177  40512    0.241508  0.128553  ...   \n",
       "605       9100              8.433607  27720    0.243464  0.134273  ...   \n",
       "\n",
       "     mfers_sales_count  deadfellaz_floor_usd deadfellaz_volume_usd  \\\n",
       "0                   24           1376.048000          15485.486578   \n",
       "1                   24           1376.048000          15485.486578   \n",
       "2                   24           1376.048000          15485.486578   \n",
       "3                   24           1376.048000          15485.486578   \n",
       "4                   24           1376.048000          15485.486578   \n",
       "..                 ...                   ...                   ...   \n",
       "601                  8           1040.413718          14744.637461   \n",
       "602                  8           1040.413718          14744.637461   \n",
       "603                  8           1040.413718          14744.637461   \n",
       "604                  8           1040.413718          14744.637461   \n",
       "605                  8           1040.413718          14744.637461   \n",
       "\n",
       "     deadfellaz_sales_count beeple_floor_usd  beeple_volume_usd  \\\n",
       "0                        10     28735.120000                0.0   \n",
       "1                        10     28735.120000                0.0   \n",
       "2                        10     28735.120000                0.0   \n",
       "3                        10     28735.120000                0.0   \n",
       "4                        10     28735.120000                0.0   \n",
       "..                      ...              ...                ...   \n",
       "601                      12     27915.435336                0.0   \n",
       "602                      12     27915.435336                0.0   \n",
       "603                      12     27915.435336                0.0   \n",
       "604                      12     27915.435336                0.0   \n",
       "605                      12     27915.435336                0.0   \n",
       "\n",
       "     beeple_sales_count  clonex_floor_usd  clonex_volume_usd  \\\n",
       "0                     0      13436.704000      104043.798720   \n",
       "1                     0      13436.704000      104043.798720   \n",
       "2                     0      13436.704000      104043.798720   \n",
       "3                     0      13436.704000      104043.798720   \n",
       "4                     0      13436.704000      104043.798720   \n",
       "..                  ...               ...                ...   \n",
       "601                   0      10886.242192      569498.519548   \n",
       "602                   0      10886.242192      569498.519548   \n",
       "603                   0      10886.242192      569498.519548   \n",
       "604                   0      10886.242192      569498.519548   \n",
       "605                   0      10886.242192      569498.519548   \n",
       "\n",
       "     clonex_sales_count  \n",
       "0                     7  \n",
       "1                     7  \n",
       "2                     7  \n",
       "3                     7  \n",
       "4                     7  \n",
       "..                  ...  \n",
       "601                  38  \n",
       "602                  38  \n",
       "603                  38  \n",
       "604                  38  \n",
       "605                  38  \n",
       "\n",
       "[606 rows x 93 columns]"
      ]
     },
     "execution_count": 12,
     "metadata": {},
     "output_type": "execute_result"
    }
   ],
   "source": [
    "#### Real data validation ####\n",
    "dataset_validation = pd.read_csv('./datasets/dataset_validation.csv')\n",
    "dataset_validation = dataset_validation.drop(columns=['Unnamed: 0'])\n",
    "dataset_validation"
   ]
  },
  {
   "cell_type": "code",
   "execution_count": 13,
   "metadata": {},
   "outputs": [
    {
     "name": "stderr",
     "output_type": "stream",
     "text": [
      "/var/folders/v8/qbhfywjj29x_mwp_gsm98j900000gn/T/ipykernel_1533/3016634127.py:8: PerformanceWarning: DataFrame is highly fragmented.  This is usually the result of calling `frame.insert` many times, which has poor performance.  Consider joining all columns at once using pd.concat(axis=1) instead.  To get a de-fragmented frame, use `newframe = frame.copy()`\n",
      "  ds[column+'_'+str(i)] = np.nan\n"
     ]
    }
   ],
   "source": [
    "dataset_validation = dataset_validation.drop(columns=['timestamp','fng_classification','date'])\n",
    "columns = [x for x in dataset_validation.columns if x != 'median_tip']\n",
    "\n",
    "n=best_N\n",
    "dataset_validation = reorder_dataset(dataset_validation,n)\n",
    "dataset_validation = dataset_validation.drop(columns = columns)\n",
    "\n",
    "dataset_validation = dataset_validation.dropna()"
   ]
  },
  {
   "cell_type": "code",
   "execution_count": 14,
   "metadata": {},
   "outputs": [
    {
     "name": "stdout",
     "output_type": "stream",
     "text": [
      "mean_absolute_error for validation LASSO:  0.037676769204019564\n"
     ]
    }
   ],
   "source": [
    "##### LASSO Validation #####\n",
    "y_validation = dataset_validation['median_tip']\n",
    "X_validation = dataset_validation.drop('median_tip', axis=1)\n",
    "\n",
    "\n",
    "y_val_pred_lasso = lasso_final.predict(X_validation)\n",
    "y_val_pred_lasso = np.maximum(y_val_pred_lasso, 0.)\n",
    "\n",
    "print('mean_absolute_error for validation LASSO: ', mean_absolute_error(y_validation, y_val_pred_lasso))"
   ]
  },
  {
   "cell_type": "code",
   "execution_count": 15,
   "metadata": {},
   "outputs": [
    {
     "data": {
      "image/png": "[encoded data removed]",
      "text/plain": [
       "<Figure size 432x288 with 1 Axes>"
      ]
     },
     "metadata": {
      "needs_background": "light"
     },
     "output_type": "display_data"
    }
   ],
   "source": [
    "line=np.linspace(0,np.max(y_validation)+0.1,len(y_validation)) \n",
    "\n",
    "plt.plot(y_validation,y_val_pred_lasso,'r.') # x vs y\n",
    "plt.plot(line,line,'k-') # identity line\n",
    "\n",
    "plt.title('Model N='+str(best_N)+' LASSO')\n",
    "\n",
    "\n",
    "plt.show()"
   ]
  },
  {
   "cell_type": "code",
   "execution_count": 16,
   "metadata": {},
   "outputs": [
    {
     "name": "stdout",
     "output_type": "stream",
     "text": [
      "Amount of predicted min tip that wouldn't be enough to go through: 156\n",
      "Percetage of predicted min tip that wouldn't be enough to go through:  26.804123711340207 %\n"
     ]
    }
   ],
   "source": [
    "y_val_array = np.array(y_validation)\n",
    "lower_values=0\n",
    "for i in range(0,len(y_val_array)):\n",
    "    if y_val_pred_lasso[i] <= y_val_array[i]:\n",
    "        lower_values=lower_values+1\n",
    "\n",
    "print(\"Amount of predicted min tip that wouldn't be enough to go through:\" , lower_values)\n",
    "print(\"Percetage of predicted min tip that wouldn't be enough to go through: \", (lower_values/len(y_val_array)*100), \"%\")"
   ]
  },
  {
   "cell_type": "code",
   "execution_count": 17,
   "metadata": {},
   "outputs": [],
   "source": [
    "errors_validation = []\n",
    "for i in range(0,len(y_val_array)):\n",
    "    if abs(y_val_pred_lasso[i] - y_val_array[i]) <= 100:\n",
    "        errors_validation.append(y_val_pred_lasso[i] - y_val_array[i])\n",
    "\n",
    "erros_validation = np.array(errors_validation)"
   ]
  },
  {
   "cell_type": "code",
   "execution_count": 18,
   "metadata": {},
   "outputs": [
    {
     "data": {
      "text/plain": [
       "Text(0, 0.5, '# blocks')"
      ]
     },
     "execution_count": 18,
     "metadata": {},
     "output_type": "execute_result"
    },
    {
     "data": {
      "image/png": "[encoded data removed]",
      "text/plain": [
       "<Figure size 432x288 with 1 Axes>"
      ]
     },
     "metadata": {
      "needs_background": "light"
     },
     "output_type": "display_data"
    }
   ],
   "source": [
    "plt.hist(errors_validation, bins = 20, color = 'red', edgecolor = 'black')\n",
    "#plt.xlim(-2,2)\n",
    "plt.title('Error Histogram for LASSO N='+str(best_N)+'')\n",
    "plt.xlabel('Error')\n",
    "plt.ylabel('# blocks')"
   ]
  },
  {
   "cell_type": "code",
   "execution_count": 19,
   "metadata": {},
   "outputs": [],
   "source": [
    "data = {'real_y': y_val_array, 'lasso_y': y_val_pred_lasso}\n",
    "rf_results = pd.DataFrame(data).to_csv(\"lasso_results.csv\")"
   ]
  },
  {
   "cell_type": "code",
   "execution_count": null,
   "metadata": {},
   "outputs": [],
   "source": []
  }
 ],
 "metadata": {
  "kernelspec": {
   "display_name": "Python 3.9.7 ('base')",
   "language": "python",
   "name": "python3"
  },
  "language_info": {
   "codemirror_mode": {
    "name": "ipython",
    "version": 3
   },
   "file_extension": ".py",
   "mimetype": "text/x-python",
   "name": "python",
   "nbconvert_exporter": "python",
   "pygments_lexer": "ipython3",
   "version": "3.9.7"
  },
  "orig_nbformat": 4,
  "vscode": {
   "interpreter": {
    "hash": "65819b7be9ce83543307bc39c6fd57214226baf9573638e6abde60421b8e7f37"
   }
  }
 },
 "nbformat": 4,
 "nbformat_minor": 2
}
