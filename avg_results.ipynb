{
 "cells": [
  {
   "cell_type": "code",
   "execution_count": 14,
   "metadata": {},
   "outputs": [],
   "source": [
    "import pandas as pd\n",
    "import numpy as np\n",
    "from sklearn.metrics import mean_squared_error, mean_absolute_error, r2_score, mean_absolute_percentage_error\n",
    "import matplotlib.pyplot as plt"
   ]
  },
  {
   "cell_type": "code",
   "execution_count": 15,
   "metadata": {},
   "outputs": [],
   "source": [
    "rf_validation = pd.read_csv('./datasets/rf_results.csv')\n",
    "lasso_validation = pd.read_csv('./datasets/lasso_results.csv')\n",
    "arima_validation = pd.read_csv('./datasets/arima_results.csv')\n",
    "xgboost_validation = pd.read_csv('./datasets/xg_results.csv')"
   ]
  },
  {
   "cell_type": "code",
   "execution_count": 16,
   "metadata": {},
   "outputs": [],
   "source": [
    "rf_validation = rf_validation.drop(columns=['Unnamed: 0'])\n",
    "lasson_validation = lasso_validation.drop(columns=['Unnamed: 0'])\n",
    "arima_validation = arima_validation.drop(columns=['Unnamed: 0'])\n",
    "xgboost_validation = xgboost_validation.drop(columns=['Unnamed: 0'])"
   ]
  },
  {
   "cell_type": "code",
   "execution_count": 17,
   "metadata": {},
   "outputs": [],
   "source": [
    "min_len = np.min([len(rf_validation), len(lasson_validation), len(arima_validation), len(xgboost_validation)])\n",
    "\n",
    "if len(rf_validation) > min_len:\n",
    "    rf_validation = rf_validation.iloc[len(rf_validation)-min_len:]\n",
    "\n",
    "if len(lasso_validation) > min_len:\n",
    "    lasso_validation = lasso_validation.iloc[len(lasso_validation)-min_len:]\n",
    "\n",
    "if len(arima_validation) > min_len:\n",
    "    arima_validation = arima_validation.iloc[len(arima_validation)-min_len:]\n",
    "\n",
    "if len(xgboost_validation) > min_len:\n",
    "    xgboost_validation = xgboost_validation.iloc[len(xgboost_validation)-min_len:]\n",
    "\n",
    "real_y = np.array(lasso_validation['real_y'])\n"
   ]
  },
  {
   "cell_type": "code",
   "execution_count": 18,
   "metadata": {},
   "outputs": [],
   "source": [
    "y_lasso = np.array(lasso_validation['lasso_y'])\n",
    "y_rf = np.array(rf_validation['rf_y'])\n",
    "y_arima = np.array(arima_validation['arima_y'])\n",
    "y_xboost = np.array(xgboost_validation['xg_y'])"
   ]
  },
  {
   "cell_type": "code",
   "execution_count": 19,
   "metadata": {},
   "outputs": [
    {
     "data": {
      "text/plain": [
       "array([0.21912901, 0.19854755, 0.1991717 , 0.20720008, 0.19732313,\n",
       "       0.18996957, 0.19251741, 0.20347353, 0.19383667, 0.20124477,\n",
       "       0.20032409, 0.20453143, 0.21770397, 0.20754996, 0.2351799 ,\n",
       "       0.25786058, 0.2454993 , 0.23668846, 0.23873764, 0.22683726,\n",
       "       0.23326862, 0.22664764, 0.21136817, 0.2073543 , 0.19863069,\n",
       "       0.21864832, 0.2176934 , 0.21898187, 0.2034311 , 0.19964111,\n",
       "       0.18278913, 0.19206766, 0.19510871, 0.19584634, 0.20852096,\n",
       "       0.19157693, 0.20755978, 0.22441364, 0.2261694 , 0.24636251,\n",
       "       0.24641448, 0.26438646, 0.21522032, 0.24355561, 0.22072848,\n",
       "       0.22385516, 0.23694465, 0.21840328, 0.21457909, 0.19792652,\n",
       "       0.19714229, 0.20965663, 0.20606115, 0.20832941, 0.18661615,\n",
       "       0.20380658, 0.18904173, 0.1870011 , 0.19578929, 0.19717514,\n",
       "       0.25378938, 0.30038595, 0.25572389, 0.27960664, 0.26868767,\n",
       "       0.29539968, 0.27743377, 0.27233067, 0.21766718, 0.23563229,\n",
       "       0.24871085, 0.2467066 , 0.21554778, 0.21043251, 0.23698477,\n",
       "       0.2254582 , 0.20427072, 0.21040087, 0.20136923, 0.20393219,\n",
       "       0.21652251, 0.20079605, 0.20690888, 0.20687929, 0.23303577,\n",
       "       0.26417519, 0.24685464, 0.23744986, 0.25230468, 0.24376105,\n",
       "       0.23151902, 0.22331641, 0.23946003, 0.22379557, 0.21080009,\n",
       "       0.2059255 , 0.21832515, 0.22507565, 0.22409095, 0.21362442,\n",
       "       0.20916683, 0.20156657, 0.20795173, 0.20575099, 0.21782144,\n",
       "       0.21435432, 0.19486974, 0.20413126, 0.210123  , 0.20643264,\n",
       "       0.2417349 , 0.21530578, 0.2531338 , 0.21818785, 0.23685018,\n",
       "       0.21429945, 0.23083909, 0.21598266, 0.215288  , 0.21797061,\n",
       "       0.2170731 , 0.20644305, 0.19316893, 0.17539309, 0.19452169,\n",
       "       0.2059361 , 0.18432445, 0.18770617, 0.18348621, 0.18931426,\n",
       "       0.19919515, 0.18797809, 0.19317786, 0.19502681, 0.20119202,\n",
       "       0.20390156, 0.19730983, 0.21013255, 0.20620049, 0.20402145,\n",
       "       0.20745969, 0.21005328, 0.2123665 , 0.20638938, 0.18851931,\n",
       "       0.20399754, 0.21682729, 0.1944315 , 0.20320737, 0.2021506 ,\n",
       "       0.19341979, 0.1883337 , 0.18256091, 0.19382433, 0.19736629,\n",
       "       0.18183962, 0.19955876, 0.20374978, 0.19772834, 0.18194753,\n",
       "       0.21832366, 0.18950395, 0.21564472, 0.22345845, 0.20628169,\n",
       "       0.21802079, 0.20820197, 0.20483097, 0.21356104, 0.20645553,\n",
       "       0.2200925 , 0.20879015, 0.20312121, 0.19105   , 0.21132457,\n",
       "       0.21308133, 0.20777557, 0.222999  , 0.21429381, 0.21115685,\n",
       "       0.21130479, 0.21867083, 0.22233236, 0.23045432, 0.22817325,\n",
       "       0.23309604, 0.21747397, 0.20657992, 0.21104843, 0.20829556,\n",
       "       0.25733465, 0.2164487 , 0.21828207, 0.23220794, 0.20591804,\n",
       "       0.20587023, 0.20367986, 0.19441262, 0.20074591, 0.19803388,\n",
       "       0.19760073, 0.22169547, 0.19660914, 0.20481927, 0.21406607,\n",
       "       0.21227415, 0.21172274, 0.20588912, 0.24045557, 0.22147257,\n",
       "       0.20547514, 0.20514164, 0.19725773, 0.20485608, 0.21705223,\n",
       "       0.21408474, 0.20574216, 0.20887117, 0.21021808, 0.20740439,\n",
       "       0.22506958, 0.21400161, 0.21020935, 0.21334645, 0.20840145,\n",
       "       0.20607339, 0.20886457, 0.19759025, 0.20439462, 0.20219678,\n",
       "       0.2198818 , 0.20630039, 0.20559505, 0.21104709, 0.23186674,\n",
       "       0.21379004, 0.20487892, 0.21454051, 0.22273984, 0.21005765,\n",
       "       0.19728321, 0.20802628, 0.21522712, 0.21791366, 0.21164583,\n",
       "       0.20345902, 0.20288042, 0.19259069, 0.19999111, 0.2026309 ,\n",
       "       0.19761146, 0.18255002, 0.1867947 , 0.19263077, 0.21527442,\n",
       "       0.20407356, 0.21131457, 0.23876417, 0.20566176, 0.20896695,\n",
       "       0.1985455 , 0.19208151, 0.2259173 , 0.20115783, 0.23909992,\n",
       "       0.21087389, 0.21350077, 0.2184291 , 0.20043691, 0.20487077,\n",
       "       0.21376369, 0.20166579, 0.21377664, 0.20939581, 0.19687484,\n",
       "       0.18909389, 0.21476619, 0.21767405, 0.22865278, 0.22418839,\n",
       "       0.21185506, 0.20651332, 0.21716749, 0.21757252, 0.22868238,\n",
       "       0.23848122, 0.21848881, 0.22854451, 0.20950163, 0.2057827 ,\n",
       "       0.21608112, 0.20870604, 0.20784294, 0.20023609, 0.20111257,\n",
       "       0.20798443, 0.20683104, 0.21723803, 0.21234742, 0.2027193 ,\n",
       "       0.20007095, 0.2196013 , 0.20319618, 0.18930618, 0.22628936,\n",
       "       0.24918367, 0.23340306, 0.2233911 , 0.20473025, 0.19502455,\n",
       "       0.20684982, 0.21157488, 0.19688341, 0.19659192, 0.19649059,\n",
       "       0.20557206, 0.20628525, 0.20827197, 0.21480304, 0.21849621,\n",
       "       0.20549018, 0.19831426, 0.20817149, 0.20331648, 0.20581416,\n",
       "       0.2220929 , 0.22071119, 0.24232506, 0.22506175, 0.22900104,\n",
       "       0.21312645, 0.21623613, 0.21471947, 0.21956914, 0.21677092,\n",
       "       0.22555703, 0.20077468, 0.20477416, 0.21473863, 0.20038575,\n",
       "       0.20445362, 0.20827662, 0.20150701, 0.20442428, 0.20712355,\n",
       "       0.20897196, 0.21476898, 0.22090202, 0.20088863, 0.18702033,\n",
       "       0.22301214, 0.24247545, 0.22780736, 0.23236723, 0.21462009,\n",
       "       0.22515451, 0.28325958, 0.24309435, 0.23878306, 0.24730502,\n",
       "       0.23899354, 0.20843445, 0.21983025, 0.20886188, 0.20669788,\n",
       "       0.19703086, 0.19871676, 0.20853554, 0.22068453, 0.19818938,\n",
       "       0.20488183, 0.21383174, 0.21411424, 0.19644945, 0.2184576 ,\n",
       "       0.23861161, 0.23352909, 0.2352589 , 0.2349489 , 0.21703472,\n",
       "       0.21787542, 0.23225048, 0.2255705 , 0.21977831, 0.20782772,\n",
       "       0.19343761, 0.20031916, 0.21459835, 0.20949548, 0.19806334,\n",
       "       0.19747087, 0.19427921, 0.21021486, 0.19565539, 0.20203972,\n",
       "       0.20257701, 0.20289512, 0.20640125, 0.22465485, 0.22910183,\n",
       "       0.23352055, 0.22973757, 0.22848028, 0.21477387, 0.22952936,\n",
       "       0.21587814, 0.21736719, 0.22353608, 0.21351949, 0.21428353,\n",
       "       0.21447793, 0.19969805, 0.20493053, 0.20725672, 0.20889264,\n",
       "       0.19355232, 0.19809365, 0.19468503, 0.19933654, 0.20572938,\n",
       "       0.20535124, 0.21538451, 0.23869321, 0.22646517, 0.25188074,\n",
       "       0.24420542, 0.23554302, 0.23533034, 0.22090921, 0.20464966,\n",
       "       0.23697552, 0.23227191, 0.20273867, 0.21955243, 0.20744871,\n",
       "       0.20602761, 0.20476981, 0.19697848, 0.21462265, 0.20751366,\n",
       "       0.21822988, 0.20220511, 0.2066277 , 0.22803832, 0.20873062,\n",
       "       0.23114573, 0.24355261, 0.23878592, 0.23902501, 0.23152147,\n",
       "       0.22595105, 0.21530403, 0.219667  , 0.22078846, 0.20763083,\n",
       "       0.22415679, 0.21241382, 0.21955069, 0.20286897, 0.20889664,\n",
       "       0.20543178, 0.19927587, 0.20939957, 0.20464308, 0.20411513,\n",
       "       0.203023  , 0.21510073, 0.21046642, 0.21616394, 0.21118111,\n",
       "       0.21192986, 0.20657926, 0.21280134, 0.2039083 , 0.20035357,\n",
       "       0.20589889, 0.20709706, 0.21016648, 0.21117497, 0.24757827,\n",
       "       0.21879676, 0.23247352, 0.20542376, 0.22430289, 0.2203565 ,\n",
       "       0.22873672, 0.21036549, 0.23117961, 0.21222104, 0.21472974,\n",
       "       0.21128925, 0.20318986, 0.195012  , 0.18776519, 0.20343023,\n",
       "       0.20258887, 0.20476166, 0.19865055, 0.21288776, 0.23405227,\n",
       "       0.24497504, 0.22844649, 0.24263141, 0.21357691, 0.23481272,\n",
       "       0.21454233, 0.23811724, 0.23863572, 0.23183735, 0.21536485,\n",
       "       0.21180577, 0.20286623, 0.21296814, 0.20390672, 0.19976767,\n",
       "       0.20369047, 0.20366544, 0.20831381, 0.23159575, 0.21892798,\n",
       "       0.2504538 , 0.22110846, 0.23954698, 0.22887039, 0.22806088,\n",
       "       0.22958111, 0.24068746, 0.2316066 , 0.22767069, 0.23982504,\n",
       "       0.22782634, 0.22343791, 0.21675412, 0.21800338, 0.21295241,\n",
       "       0.19922207, 0.21388412, 0.22287931, 0.21696964, 0.20295214,\n",
       "       0.22265467, 0.23501551, 0.25670404, 0.26269212, 0.23404625,\n",
       "       0.24916235, 0.22184435, 0.25224727, 0.24995439, 0.24543086,\n",
       "       0.24079864, 0.22293214, 0.256787  , 0.25607039, 0.23370499,\n",
       "       0.22251571, 0.20123651, 0.21286406, 0.2069281 , 0.20368896,\n",
       "       0.21153634, 0.21566095, 0.22774929, 0.22086667, 0.22046684,\n",
       "       0.24925586, 0.26380135, 0.28923133, 0.28712978, 0.25741927,\n",
       "       0.23487042, 0.25441384, 0.23800132, 0.26053217, 0.23960854,\n",
       "       0.22582678, 0.22442924, 0.20556631, 0.21540368, 0.21160662,\n",
       "       0.21670696, 0.20234725])"
      ]
     },
     "execution_count": 19,
     "metadata": {},
     "output_type": "execute_result"
    }
   ],
   "source": [
    "avg_y = []\n",
    "for i in range(0,len(y_rf)):\n",
    "    avg_y.append((y_lasso[i]+y_rf[i]+y_xboost[i])/3)\n",
    "\n",
    "avg_y = np.array(avg_y)\n",
    "avg_y"
   ]
  },
  {
   "cell_type": "code",
   "execution_count": 20,
   "metadata": {},
   "outputs": [
    {
     "name": "stdout",
     "output_type": "stream",
     "text": [
      "mean_absolute_error:  0.03057343813725863\n"
     ]
    }
   ],
   "source": [
    "print('mean_absolute_error: ', mean_absolute_error(real_y, avg_y))"
   ]
  },
  {
   "cell_type": "code",
   "execution_count": 21,
   "metadata": {},
   "outputs": [
    {
     "data": {
      "image/png": "[encoded data removed]",
      "text/plain": [
       "<Figure size 432x288 with 1 Axes>"
      ]
     },
     "metadata": {
      "needs_background": "light"
     },
     "output_type": "display_data"
    }
   ],
   "source": [
    "line=np.linspace(0,np.max(real_y),len(real_y)) \n",
    "\n",
    "plt.plot(real_y,avg_y,'r.') \n",
    "plt.plot(line,line,'k-') \n",
    "\n",
    "plt.title('Average model')\n",
    "\n",
    "\n",
    "plt.show()"
   ]
  },
  {
   "cell_type": "code",
   "execution_count": 22,
   "metadata": {},
   "outputs": [
    {
     "data": {
      "text/plain": [
       "0.18991725903751286"
      ]
     },
     "execution_count": 22,
     "metadata": {},
     "output_type": "execute_result"
    }
   ],
   "source": [
    "y_val_array = np.array(real_y)\n",
    "biggest_error=0\n",
    "for i in range(0,len(y_val_array)):\n",
    "    if biggest_error < abs(avg_y[i] - y_val_array[i]):\n",
    "        biggest_error= abs(avg_y[i] - y_val_array[i])\n",
    "\n",
    "biggest_error"
   ]
  },
  {
   "cell_type": "code",
   "execution_count": 23,
   "metadata": {},
   "outputs": [
    {
     "name": "stdout",
     "output_type": "stream",
     "text": [
      "Amount of predicted min tip that wouldn't be enough to go through: 246\n",
      "Percetage of predicted min tip that wouldn't be enough to go through:  42.2680412371134 %\n"
     ]
    }
   ],
   "source": [
    "y_val_array = np.array(real_y)\n",
    "lower_values=0\n",
    "for i in range(0,len(y_val_array)):\n",
    "    if avg_y[i] <= y_val_array[i]:\n",
    "        lower_values=lower_values+1\n",
    "\n",
    "print(\"Amount of predicted min tip that wouldn't be enough to go through:\" , lower_values)\n",
    "print(\"Percetage of predicted min tip that wouldn't be enough to go through: \", (lower_values/len(y_val_array)*100), \"%\")"
   ]
  },
  {
   "cell_type": "code",
   "execution_count": 24,
   "metadata": {},
   "outputs": [],
   "source": [
    "errors_validation = []\n",
    "for i in range(0,len(y_val_array)):\n",
    "    if abs(avg_y[i] - y_val_array[i]) <= 100:\n",
    "        errors_validation.append(avg_y[i] - y_val_array[i])\n",
    "\n",
    "erros_validation = np.array(errors_validation)"
   ]
  },
  {
   "cell_type": "code",
   "execution_count": 28,
   "metadata": {},
   "outputs": [
    {
     "data": {
      "text/plain": [
       "Text(0, 0.5, '# blocks')"
      ]
     },
     "execution_count": 28,
     "metadata": {},
     "output_type": "execute_result"
    },
    {
     "data": {
      "image/png": "[encoded data removed]",
      "text/plain": [
       "<Figure size 432x288 with 1 Axes>"
      ]
     },
     "metadata": {
      "needs_background": "light"
     },
     "output_type": "display_data"
    }
   ],
   "source": [
    "plt.hist(errors_validation, bins = 20, color = 'red', edgecolor = 'black')\n",
    "plt.title('Error Histogram for AVG Model')\n",
    "plt.xlabel('Error')\n",
    "plt.ylabel('# blocks')"
   ]
  },
  {
   "cell_type": "code",
   "execution_count": null,
   "metadata": {},
   "outputs": [],
   "source": []
  }
 ],
 "metadata": {
  "kernelspec": {
   "display_name": "Python 3.9.7 ('base')",
   "language": "python",
   "name": "python3"
  },
  "language_info": {
   "codemirror_mode": {
    "name": "ipython",
    "version": 3
   },
   "file_extension": ".py",
   "mimetype": "text/x-python",
   "name": "python",
   "nbconvert_exporter": "python",
   "pygments_lexer": "ipython3",
   "version": "3.9.7"
  },
  "orig_nbformat": 4,
  "vscode": {
   "interpreter": {
    "hash": "65819b7be9ce83543307bc39c6fd57214226baf9573638e6abde60421b8e7f37"
   }
  }
 },
 "nbformat": 4,
 "nbformat_minor": 2
}
