{
 "cells": [
  {
   "cell_type": "code",
   "execution_count": 3,
   "metadata": {},
   "outputs": [],
   "source": [
    "import pandas as pd\n",
    "import matplotlib.pyplot as plt"
   ]
  },
  {
   "cell_type": "code",
   "execution_count": 2,
   "metadata": {},
   "outputs": [],
   "source": [
    "dataset = pd.read_csv('../datasets/final_dataset.csv')\n",
    "dataset = dataset.drop(columns=['Unnamed: 0'])"
   ]
  },
  {
   "cell_type": "code",
   "execution_count": 4,
   "metadata": {},
   "outputs": [
    {
     "data": {
      "text/plain": [
       "count    8761.00000\n",
       "mean      258.29506\n",
       "std        17.27629\n",
       "min       108.00000\n",
       "25%       248.00000\n",
       "50%       259.00000\n",
       "75%       270.00000\n",
       "max       314.00000\n",
       "Name: blocks, dtype: object"
      ]
     },
     "execution_count": 4,
     "metadata": {},
     "output_type": "execute_result"
    }
   ],
   "source": [
    "dataset.describe().apply(lambda s: s.apply('{0:.5f}'.format))['blocks']"
   ]
  },
  {
   "cell_type": "code",
   "execution_count": 4,
   "metadata": {},
   "outputs": [
    {
     "data": {
      "text/plain": [
       "Text(0.5, 0, 'Blocks')"
      ]
     },
     "execution_count": 4,
     "metadata": {},
     "output_type": "execute_result"
    },
    {
     "data": {
      "image/png": "[encoded data removed]",
      "text/plain": [
       "<Figure size 432x288 with 1 Axes>"
      ]
     },
     "metadata": {
      "needs_background": "light"
     },
     "output_type": "display_data"
    }
   ],
   "source": [
    "plt.hist(dataset['blocks'], bins = 100, color = 'blue', edgecolor = 'black')\n",
    "#plt.xlim(0,1.1)\n",
    "plt.xlabel('Blocks')\n",
    "#plt.ylabel('')"
   ]
  },
  {
   "cell_type": "code",
   "execution_count": 5,
   "metadata": {},
   "outputs": [
    {
     "data": {
      "text/plain": [
       "count      8761.00000\n",
       "mean      49286.54160\n",
       "std        5985.82440\n",
       "min       19976.00000\n",
       "25%       45498.00000\n",
       "50%       48847.00000\n",
       "75%       52365.00000\n",
       "max      112483.00000\n",
       "Name: tx, dtype: object"
      ]
     },
     "execution_count": 5,
     "metadata": {},
     "output_type": "execute_result"
    }
   ],
   "source": [
    "dataset.describe().apply(lambda s: s.apply('{0:.5f}'.format))['tx']"
   ]
  },
  {
   "cell_type": "code",
   "execution_count": 6,
   "metadata": {},
   "outputs": [
    {
     "data": {
      "text/plain": [
       "Text(0.5, 0, 'tx')"
      ]
     },
     "execution_count": 6,
     "metadata": {},
     "output_type": "execute_result"
    },
    {
     "data": {
      "image/png": "[encoded data removed]",
      "text/plain": [
       "<Figure size 432x288 with 1 Axes>"
      ]
     },
     "metadata": {
      "needs_background": "light"
     },
     "output_type": "display_data"
    }
   ],
   "source": [
    "plt.hist(dataset['tx'], bins = 100, color = 'blue', edgecolor = 'black')\n",
    "#plt.xlim(0,1.1)\n",
    "plt.xlabel('tx')\n",
    "#plt.ylabel('')"
   ]
  },
  {
   "cell_type": "code",
   "execution_count": 6,
   "metadata": {},
   "outputs": [
    {
     "data": {
      "text/plain": [
       "count     8761.00000\n",
       "mean     15167.70563\n",
       "std       8792.66579\n",
       "min       2344.00000\n",
       "25%       8355.00000\n",
       "50%      12117.00000\n",
       "75%      20403.00000\n",
       "max      76560.00000\n",
       "Name: legacy_tx, dtype: object"
      ]
     },
     "execution_count": 6,
     "metadata": {},
     "output_type": "execute_result"
    }
   ],
   "source": [
    "dataset.describe().apply(lambda s: s.apply('{0:.5f}'.format))['legacy_tx']"
   ]
  },
  {
   "cell_type": "code",
   "execution_count": 7,
   "metadata": {},
   "outputs": [
    {
     "data": {
      "text/plain": [
       "Text(0.5, 0, 'legacy_tx')"
      ]
     },
     "execution_count": 7,
     "metadata": {},
     "output_type": "execute_result"
    },
    {
     "data": {
      "image/png": "[encoded data removed]",
      "text/plain": [
       "<Figure size 432x288 with 1 Axes>"
      ]
     },
     "metadata": {
      "needs_background": "light"
     },
     "output_type": "display_data"
    }
   ],
   "source": [
    "plt.hist(dataset['legacy_tx'], bins = 100, color = 'blue', edgecolor = 'black')\n",
    "#plt.xlim(0,1.1)\n",
    "plt.xlabel('legacy_tx')\n",
    "#plt.ylabel('')"
   ]
  },
  {
   "cell_type": "code",
   "execution_count": 7,
   "metadata": {},
   "outputs": [
    {
     "data": {
      "text/plain": [
       "count    8761.00000\n",
       "mean     2949.80297\n",
       "std       967.32071\n",
       "min       904.25000\n",
       "25%      2426.37000\n",
       "50%      3060.24000\n",
       "75%      3602.81000\n",
       "max      4846.71000\n",
       "Name: eth_price, dtype: object"
      ]
     },
     "execution_count": 7,
     "metadata": {},
     "output_type": "execute_result"
    }
   ],
   "source": [
    "dataset.describe().apply(lambda s: s.apply('{0:.5f}'.format))['eth_price']"
   ]
  },
  {
   "cell_type": "code",
   "execution_count": 8,
   "metadata": {},
   "outputs": [
    {
     "data": {
      "text/plain": [
       "Text(0.5, 0, 'eth_price')"
      ]
     },
     "execution_count": 8,
     "metadata": {},
     "output_type": "execute_result"
    },
    {
     "data": {
      "image/png": "[encoded data removed]",
      "text/plain": [
       "<Figure size 432x288 with 1 Axes>"
      ]
     },
     "metadata": {
      "needs_background": "light"
     },
     "output_type": "display_data"
    }
   ],
   "source": [
    "plt.hist(dataset['eth_price'], bins = 100, color = 'blue', edgecolor = 'black')\n",
    "#plt.xlim(0,1.1)\n",
    "plt.xlabel('eth_price')\n",
    "#plt.ylabel('')"
   ]
  },
  {
   "cell_type": "code",
   "execution_count": 8,
   "metadata": {},
   "outputs": [
    {
     "data": {
      "text/plain": [
       "count    8761.00000\n",
       "mean        0.27553\n",
       "std         0.13065\n",
       "min         0.00000\n",
       "25%         0.17297\n",
       "50%         0.25330\n",
       "75%         0.37103\n",
       "max         0.81008\n",
       "Name: median_tip, dtype: object"
      ]
     },
     "execution_count": 8,
     "metadata": {},
     "output_type": "execute_result"
    }
   ],
   "source": [
    "dataset.describe().apply(lambda s: s.apply('{0:.5f}'.format))['median_tip']"
   ]
  },
  {
   "cell_type": "code",
   "execution_count": 9,
   "metadata": {},
   "outputs": [
    {
     "data": {
      "text/plain": [
       "Text(0.5, 0, 'median_tip')"
      ]
     },
     "execution_count": 9,
     "metadata": {},
     "output_type": "execute_result"
    },
    {
     "data": {
      "image/png": "[encoded data removed]",
      "text/plain": [
       "<Figure size 432x288 with 1 Axes>"
      ]
     },
     "metadata": {
      "needs_background": "light"
     },
     "output_type": "display_data"
    }
   ],
   "source": [
    "plt.hist(dataset['median_tip'], bins = 100, color = 'blue', edgecolor = 'black')\n",
    "#plt.xlim(0,1.1)\n",
    "plt.xlabel('median_tip')\n",
    "#plt.ylabel('')"
   ]
  },
  {
   "cell_type": "code",
   "execution_count": 9,
   "metadata": {},
   "outputs": [
    {
     "data": {
      "text/plain": [
       "count    8761.00000\n",
       "mean       36.62664\n",
       "std        21.98450\n",
       "min         6.00000\n",
       "25%        21.00000\n",
       "50%        28.00000\n",
       "75%        52.00000\n",
       "max        84.00000\n",
       "Name: fng_value, dtype: object"
      ]
     },
     "execution_count": 9,
     "metadata": {},
     "output_type": "execute_result"
    }
   ],
   "source": [
    "dataset.describe().apply(lambda s: s.apply('{0:.5f}'.format))['fng_value']"
   ]
  },
  {
   "cell_type": "code",
   "execution_count": 10,
   "metadata": {},
   "outputs": [
    {
     "data": {
      "text/plain": [
       "Text(0.5, 0, 'fng_value')"
      ]
     },
     "execution_count": 10,
     "metadata": {},
     "output_type": "execute_result"
    },
    {
     "data": {
      "image/png": "[encoded data removed]",
      "text/plain": [
       "<Figure size 432x288 with 1 Axes>"
      ]
     },
     "metadata": {
      "needs_background": "light"
     },
     "output_type": "display_data"
    }
   ],
   "source": [
    "plt.hist(dataset['fng_value'], bins = 100, color = 'blue', edgecolor = 'black')\n",
    "#plt.xlim(0,1.1)\n",
    "plt.xlabel('fng_value')\n",
    "#plt.ylabel('')"
   ]
  },
  {
   "cell_type": "code",
   "execution_count": 10,
   "metadata": {},
   "outputs": [
    {
     "data": {
      "text/plain": [
       "count            8761.00000\n",
       "mean      74177943716.25104\n",
       "std       22303225447.58210\n",
       "min       29988132956.60305\n",
       "25%       69589028050.36363\n",
       "50%       78035611422.62816\n",
       "75%       90581549850.18384\n",
       "max      110398373060.54095\n",
       "Name: ethereum_tvl, dtype: object"
      ]
     },
     "execution_count": 10,
     "metadata": {},
     "output_type": "execute_result"
    }
   ],
   "source": [
    "dataset.describe().apply(lambda s: s.apply('{0:.5f}'.format))['ethereum_tvl']"
   ]
  },
  {
   "cell_type": "code",
   "execution_count": 11,
   "metadata": {},
   "outputs": [
    {
     "data": {
      "text/plain": [
       "Text(0.5, 0, 'ethereum_tvl')"
      ]
     },
     "execution_count": 11,
     "metadata": {},
     "output_type": "execute_result"
    },
    {
     "data": {
      "image/png": "[encoded data removed]",
      "text/plain": [
       "<Figure size 432x288 with 1 Axes>"
      ]
     },
     "metadata": {
      "needs_background": "light"
     },
     "output_type": "display_data"
    }
   ],
   "source": [
    "plt.hist(dataset['ethereum_tvl'], bins = 100, color = 'blue', edgecolor = 'black')\n",
    "#plt.xlim(0,1.1)\n",
    "plt.xlabel('ethereum_tvl')\n",
    "#plt.ylabel('')"
   ]
  },
  {
   "cell_type": "code",
   "execution_count": 11,
   "metadata": {},
   "outputs": [
    {
     "data": {
      "text/plain": [
       "count           8761.00000\n",
       "mean      9981478419.97760\n",
       "std       2717127811.91126\n",
       "min       4751069619.59046\n",
       "25%       8693745168.34138\n",
       "50%      10392576517.45300\n",
       "75%      12046215884.97555\n",
       "max      14660065460.28617\n",
       "Name: bsc_tvl, dtype: object"
      ]
     },
     "execution_count": 11,
     "metadata": {},
     "output_type": "execute_result"
    }
   ],
   "source": [
    "dataset.describe().apply(lambda s: s.apply('{0:.5f}'.format))['bsc_tvl']"
   ]
  },
  {
   "cell_type": "code",
   "execution_count": 12,
   "metadata": {},
   "outputs": [
    {
     "data": {
      "text/plain": [
       "Text(0.5, 0, 'bsc_tvl')"
      ]
     },
     "execution_count": 12,
     "metadata": {},
     "output_type": "execute_result"
    },
    {
     "data": {
      "image/png": "[encoded data removed]",
      "text/plain": [
       "<Figure size 432x288 with 1 Axes>"
      ]
     },
     "metadata": {
      "needs_background": "light"
     },
     "output_type": "display_data"
    }
   ],
   "source": [
    "plt.hist(dataset['bsc_tvl'], bins = 100, color = 'blue', edgecolor = 'black')\n",
    "#plt.xlim(0,1.1)\n",
    "plt.xlabel('bsc_tvl')\n",
    "#plt.ylabel('')"
   ]
  },
  {
   "cell_type": "code",
   "execution_count": 12,
   "metadata": {},
   "outputs": [
    {
     "data": {
      "text/plain": [
       "count          8761.00000\n",
       "mean     3730521423.08472\n",
       "std      1258358562.00357\n",
       "min      1380057775.59740\n",
       "25%      2858235457.75057\n",
       "50%      4063038579.10441\n",
       "75%      4616183917.75320\n",
       "max      6107631072.19976\n",
       "Name: polygon_tvl, dtype: object"
      ]
     },
     "execution_count": 12,
     "metadata": {},
     "output_type": "execute_result"
    }
   ],
   "source": [
    "dataset.describe().apply(lambda s: s.apply('{0:.5f}'.format))['polygon_tvl']"
   ]
  },
  {
   "cell_type": "code",
   "execution_count": 13,
   "metadata": {},
   "outputs": [
    {
     "data": {
      "text/plain": [
       "Text(0.5, 0, 'polygon_tvl')"
      ]
     },
     "execution_count": 13,
     "metadata": {},
     "output_type": "execute_result"
    },
    {
     "data": {
      "image/png": "[encoded data removed]",
      "text/plain": [
       "<Figure size 432x288 with 1 Axes>"
      ]
     },
     "metadata": {
      "needs_background": "light"
     },
     "output_type": "display_data"
    }
   ],
   "source": [
    "plt.hist(dataset['polygon_tvl'], bins = 100, color = 'blue', edgecolor = 'black')\n",
    "#plt.xlim(0,1.1)\n",
    "plt.xlabel('polygon_tvl')\n",
    "#plt.ylabel('')"
   ]
  },
  {
   "cell_type": "code",
   "execution_count": 13,
   "metadata": {},
   "outputs": [
    {
     "data": {
      "text/plain": [
       "count                8761.00000\n",
       "mean      491169941601310.81250\n",
       "std       104241301940147.92188\n",
       "min       123700500000000.00000\n",
       "25%       417742500000000.00000\n",
       "50%       472312500000000.00000\n",
       "75%       543441250000000.00000\n",
       "max      1380522000125502.00000\n",
       "Name: bsc_hourly_median_fee_tx, dtype: object"
      ]
     },
     "execution_count": 13,
     "metadata": {},
     "output_type": "execute_result"
    }
   ],
   "source": [
    "dataset.describe().apply(lambda s: s.apply('{0:.5f}'.format))['bsc_hourly_median_fee_tx']"
   ]
  },
  {
   "cell_type": "code",
   "execution_count": 14,
   "metadata": {},
   "outputs": [
    {
     "data": {
      "text/plain": [
       "Text(0.5, 0, 'bsc_hourly_median_fee_tx')"
      ]
     },
     "execution_count": 14,
     "metadata": {},
     "output_type": "execute_result"
    },
    {
     "data": {
      "image/png": "[encoded data removed]",
      "text/plain": [
       "<Figure size 432x288 with 1 Axes>"
      ]
     },
     "metadata": {
      "needs_background": "light"
     },
     "output_type": "display_data"
    }
   ],
   "source": [
    "plt.hist(dataset['bsc_hourly_median_fee_tx'], bins = 100, color = 'blue', edgecolor = 'black')\n",
    "#plt.xlim(0,1.1)\n",
    "plt.xlabel('bsc_hourly_median_fee_tx')\n",
    "#plt.ylabel('')"
   ]
  },
  {
   "cell_type": "code",
   "execution_count": 14,
   "metadata": {},
   "outputs": [
    {
     "data": {
      "text/plain": [
       "count     8761.00000\n",
       "mean      1147.33572\n",
       "std       2327.85203\n",
       "min          0.00000\n",
       "25%          0.00000\n",
       "50%        971.36502\n",
       "75%       1569.55683\n",
       "max      63743.48916\n",
       "Name: polygon_sum_priority_fee_eth, dtype: object"
      ]
     },
     "execution_count": 14,
     "metadata": {},
     "output_type": "execute_result"
    }
   ],
   "source": [
    "dataset.describe().apply(lambda s: s.apply('{0:.5f}'.format))['polygon_sum_priority_fee_eth']"
   ]
  },
  {
   "cell_type": "code",
   "execution_count": 15,
   "metadata": {},
   "outputs": [
    {
     "data": {
      "text/plain": [
       "Text(0.5, 0, 'polygon_sum_priority_fee_eth')"
      ]
     },
     "execution_count": 15,
     "metadata": {},
     "output_type": "execute_result"
    },
    {
     "data": {
      "image/png": "[encoded data removed]",
      "text/plain": [
       "<Figure size 432x288 with 1 Axes>"
      ]
     },
     "metadata": {
      "needs_background": "light"
     },
     "output_type": "display_data"
    }
   ],
   "source": [
    "plt.hist(dataset['polygon_sum_priority_fee_eth'], bins = 100, color = 'blue', edgecolor = 'black')\n",
    "#plt.xlim(0,1.1)\n",
    "plt.xlabel('polygon_sum_priority_fee_eth')\n",
    "#plt.ylabel('')"
   ]
  },
  {
   "cell_type": "code",
   "execution_count": 15,
   "metadata": {},
   "outputs": [
    {
     "data": {
      "text/plain": [
       "count        8761.00000\n",
       "mean      5589250.12991\n",
       "std       6374749.49628\n",
       "min        244587.32919\n",
       "25%       2042500.81200\n",
       "50%       3653182.28990\n",
       "75%       6465390.55626\n",
       "max      50581231.58417\n",
       "Name: bayc_volume_usd, dtype: object"
      ]
     },
     "execution_count": 15,
     "metadata": {},
     "output_type": "execute_result"
    }
   ],
   "source": [
    "dataset.describe().apply(lambda s: s.apply('{0:.5f}'.format))['bayc_volume_usd']"
   ]
  },
  {
   "cell_type": "code",
   "execution_count": 16,
   "metadata": {},
   "outputs": [
    {
     "data": {
      "text/plain": [
       "Text(0.5, 0, 'bayc_volume_usd')"
      ]
     },
     "execution_count": 16,
     "metadata": {},
     "output_type": "execute_result"
    },
    {
     "data": {
      "image/png": "[encoded data removed]",
      "text/plain": [
       "<Figure size 432x288 with 1 Axes>"
      ]
     },
     "metadata": {
      "needs_background": "light"
     },
     "output_type": "display_data"
    }
   ],
   "source": [
    "plt.hist(dataset['bayc_volume_usd'], bins = 100, color = 'blue', edgecolor = 'black')\n",
    "#plt.xlim(0,1.1)\n",
    "plt.xlabel('bayc_volume_usd')\n",
    "#plt.ylabel('')"
   ]
  },
  {
   "cell_type": "code",
   "execution_count": 16,
   "metadata": {},
   "outputs": [
    {
     "data": {
      "text/plain": [
       "count      8761.00000\n",
       "mean       2636.84016\n",
       "std       13723.67906\n",
       "min           0.00000\n",
       "25%           0.00000\n",
       "50%           0.00000\n",
       "75%           0.00000\n",
       "max      153498.18330\n",
       "Name: beeple_volume_usd, dtype: object"
      ]
     },
     "execution_count": 16,
     "metadata": {},
     "output_type": "execute_result"
    }
   ],
   "source": [
    "dataset.describe().apply(lambda s: s.apply('{0:.5f}'.format))['beeple_volume_usd']"
   ]
  },
  {
   "cell_type": "code",
   "execution_count": 22,
   "metadata": {},
   "outputs": [
    {
     "data": {
      "text/plain": [
       "Text(0.5, 0, 'beeple_volume_usd')"
      ]
     },
     "execution_count": 22,
     "metadata": {},
     "output_type": "execute_result"
    },
    {
     "data": {
      "image/png": "[encoded data removed]",
      "text/plain": [
       "<Figure size 432x288 with 1 Axes>"
      ]
     },
     "metadata": {
      "needs_background": "light"
     },
     "output_type": "display_data"
    }
   ],
   "source": [
    "plt.hist(dataset['beeple_volume_usd'], bins = 100, color = 'blue', edgecolor = 'black')\n",
    "#plt.xlim(0,1.1)\n",
    "plt.xlabel('beeple_volume_usd')\n",
    "#plt.ylabel('')"
   ]
  },
  {
   "cell_type": "code",
   "execution_count": 18,
   "metadata": {},
   "outputs": [
    {
     "data": {
      "text/plain": [
       "count         8761.00000\n",
       "mean       6298573.60091\n",
       "std       27551471.33195\n",
       "min          95583.91000\n",
       "25%        1186209.60000\n",
       "50%        2602292.66880\n",
       "75%        5344371.15720\n",
       "max      494277011.78313\n",
       "Name: cp_volume_usd, dtype: object"
      ]
     },
     "execution_count": 18,
     "metadata": {},
     "output_type": "execute_result"
    }
   ],
   "source": [
    "dataset.describe().apply(lambda s: s.apply('{0:.5f}'.format))['cp_volume_usd']"
   ]
  },
  {
   "cell_type": "code",
   "execution_count": 18,
   "metadata": {},
   "outputs": [
    {
     "data": {
      "text/plain": [
       "Text(0.5, 0, 'cp_volume_usd')"
      ]
     },
     "execution_count": 18,
     "metadata": {},
     "output_type": "execute_result"
    },
    {
     "data": {
      "image/png": "[encoded data removed]",
      "text/plain": [
       "<Figure size 432x288 with 1 Axes>"
      ]
     },
     "metadata": {
      "needs_background": "light"
     },
     "output_type": "display_data"
    }
   ],
   "source": [
    "plt.hist(dataset['cp_volume_usd'], bins = 100, color = 'blue', edgecolor = 'black')\n",
    "#plt.xlim(0,1.1)\n",
    "plt.xlabel('cp_volume_usd')\n",
    "#plt.ylabel('')"
   ]
  }
 ],
 "metadata": {
  "kernelspec": {
   "display_name": "Python 3.9.7 ('base')",
   "language": "python",
   "name": "python3"
  },
  "language_info": {
   "codemirror_mode": {
    "name": "ipython",
    "version": 3
   },
   "file_extension": ".py",
   "mimetype": "text/x-python",
   "name": "python",
   "nbconvert_exporter": "python",
   "pygments_lexer": "ipython3",
   "version": "3.9.7"
  },
  "orig_nbformat": 4,
  "vscode": {
   "interpreter": {
    "hash": "65819b7be9ce83543307bc39c6fd57214226baf9573638e6abde60421b8e7f37"
   }
  }
 },
 "nbformat": 4,
 "nbformat_minor": 2
}
